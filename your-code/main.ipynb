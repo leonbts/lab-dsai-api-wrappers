{
 "cells": [
  {
   "cell_type": "markdown",
   "id": "bd0a3905-b346-43d5-9791-d3869299eb9d",
   "metadata": {},
   "source": [
    "# API wrappers"
   ]
  },
  {
   "cell_type": "markdown",
   "id": "327b4075-5374-4ecf-b8c5-c106d20d80e1",
   "metadata": {},
   "source": [
    "The OpenWeatherMap offers REST endpoints for querying current weather, forecasts, historical data, etc. However, accessing this data directly via the REST API requires handling multiple API calls, query parameters, and response parsing. The pyowm library abstracts these complexities and provides useful built-in functionalities."
   ]
  },
  {
   "cell_type": "markdown",
   "id": "1d731d49-fd79-44c8-8f72-68194c99fec0",
   "metadata": {},
   "source": [
    "After signing in to OpenWeatherMap retrieve your api key at https://home.openweathermap.org/api_keys\n",
    "\n",
    "You will also need to install the pyowm package: pip install pyowm "
   ]
  },
  {
   "cell_type": "code",
   "execution_count": 13,
   "id": "63b327b1-338b-4b14-a5b5-1bd8741da64b",
   "metadata": {},
   "outputs": [],
   "source": [
    "import requests\n",
    "import pyowm\n",
    "import json\n",
    "\n",
    "api_key = '9be55d70c16bbbd108056ecff0b2613f'"
   ]
  },
  {
   "cell_type": "markdown",
   "id": "f73d3029-c6a6-43b9-81a9-0e81c13bdf09",
   "metadata": {},
   "source": [
    "## use case 1: managing API keys\n",
    "\n",
    "In a raw rest API call you always have to manage credentials in each individual call. Wrappers usually store and manage the authentication for you"
   ]
  },
  {
   "cell_type": "code",
   "execution_count": 14,
   "id": "afbcdf71-845e-4aae-b8cc-8963745f7d4b",
   "metadata": {},
   "outputs": [
    {
     "data": {
      "text/plain": [
       "{'coord': {'lon': -0.1257, 'lat': 51.5085},\n",
       " 'weather': [{'id': 803,\n",
       "   'main': 'Clouds',\n",
       "   'description': 'broken clouds',\n",
       "   'icon': '04d'}],\n",
       " 'base': 'stations',\n",
       " 'main': {'temp': 292.82,\n",
       "  'feels_like': 291.86,\n",
       "  'temp_min': 292.01,\n",
       "  'temp_max': 293.45,\n",
       "  'pressure': 1018,\n",
       "  'humidity': 39,\n",
       "  'sea_level': 1018,\n",
       "  'grnd_level': 1014},\n",
       " 'visibility': 10000,\n",
       " 'wind': {'speed': 5.14, 'deg': 240},\n",
       " 'clouds': {'all': 69},\n",
       " 'dt': 1748009966,\n",
       " 'sys': {'type': 2,\n",
       "  'id': 2075535,\n",
       "  'country': 'GB',\n",
       "  'sunrise': 1747972678,\n",
       "  'sunset': 1748030212},\n",
       " 'timezone': 3600,\n",
       " 'id': 2643743,\n",
       " 'name': 'London',\n",
       " 'cod': 200}"
      ]
     },
     "execution_count": 14,
     "metadata": {},
     "output_type": "execute_result"
    }
   ],
   "source": [
    "#You can get current weather data by making a GET request to an endpoint like:\n",
    "\n",
    "params = {\n",
    "    'q': 'London',\n",
    "    'appid' : api_key\n",
    "}\n",
    "\n",
    "response = requests.get('https://api.openweathermap.org/data/2.5/weather', params = params)\n",
    "\n",
    "json.loads(response.text)\n",
    "\n",
    "#but for every call you make using GET from now on you do need to add the parameters, since the raw API does not manage authentication for you"
   ]
  },
  {
   "cell_type": "markdown",
   "id": "b82c585b-fd83-4f59-9d46-14225f3e5037",
   "metadata": {},
   "source": [
    "Most wrappers (pyowm included) include some way of initializing a session with the authentication key that you then don't need to type again.\n",
    "\n",
    "Initialize pyowm with the default configuration. Thenopen the weather manager\n",
    "\n",
    "Check out a snippet here: https://pyowm.readthedocs.io/en/latest/v3/code-recipes.html#weather_data"
   ]
  },
  {
   "cell_type": "code",
   "execution_count": 15,
   "id": "f376d466-5a69-4a47-b35d-1870cbef61ff",
   "metadata": {},
   "outputs": [
    {
     "name": "stdout",
     "output_type": "stream",
     "text": [
      "Weather in London: broken clouds\n",
      "Temperature: 19.42 °C\n",
      "Wind speed: 5.14 m/s\n",
      "Humidity: 40 %\n"
     ]
    }
   ],
   "source": [
    "from pyowm import OWM\n",
    "\n",
    "# Initialize OWM with your API key\n",
    "owm = OWM(api_key)\n",
    "\n",
    "# Get weather manager (handles all weather-related requests)\n",
    "mgr = owm.weather_manager()\n",
    "\n",
    "# Now get current weather for London\n",
    "observation = mgr.weather_at_place('London,GB')\n",
    "weather = observation.weather\n",
    "\n",
    "print(f\"Weather in London: {weather.detailed_status}\")\n",
    "print(f\"Temperature: {weather.temperature('celsius')['temp']} °C\")\n",
    "print(f\"Wind speed: {weather.wind()['speed']} m/s\")\n",
    "print(f\"Humidity: {weather.humidity} %\")"
   ]
  },
  {
   "cell_type": "markdown",
   "id": "840060e4-d3de-4b96-bb03-5bce02003f1d",
   "metadata": {},
   "source": [
    "## use case 2: Simplified calls\n",
    "\n",
    "With the raw REST API, you'd have to build a URL manually, send the request, and parse the JSON response to get the current weather."
   ]
  },
  {
   "cell_type": "code",
   "execution_count": 23,
   "id": "a2aa8395-0bed-4098-8881-0ffe93541b1f",
   "metadata": {},
   "outputs": [
    {
     "name": "stdout",
     "output_type": "stream",
     "text": [
      "Temperature: 292.31K, Humidity: 40%, Wind Speed: 5.14 m/s\n"
     ]
    }
   ],
   "source": [
    "city = 'London'\n",
    "url = f'http://api.openweathermap.org/data/2.5/weather?q={city}'\n",
    "\n",
    "response = requests.get(url,params= params)\n",
    "data = response.json()\n",
    "temperature = data['main']['temp']\n",
    "humidity = data['main']['humidity']\n",
    "wind_speed = data['wind']['speed']\n",
    "\n",
    "print(f\"Temperature: {temperature}K, Humidity: {humidity}%, Wind Speed: {wind_speed} m/s\")"
   ]
  },
  {
   "cell_type": "markdown",
   "id": "df5bc6df-bfb2-416d-8d06-3961d3a12234",
   "metadata": {},
   "source": [
    "Get the equivalent call as above for the city of London using the pyowm package"
   ]
  },
  {
   "cell_type": "code",
   "execution_count": 24,
   "id": "d1986770-4628-480b-b587-9ff5c42d301c",
   "metadata": {},
   "outputs": [
    {
     "name": "stdout",
     "output_type": "stream",
     "text": [
      "Temperature: 19.42°C, Humidity: 40%, Wind Speed: 5.14 m/s\n"
     ]
    }
   ],
   "source": [
    "owm = OWM(api_key)\n",
    "mgr = owm.weather_manager()\n",
    "\n",
    "observation = mgr.weather_at_place('London,GB')\n",
    "weather = observation.weather\n",
    "\n",
    "temperature = weather.temperature('celsius')['temp']\n",
    "humidity = weather.humidity\n",
    "wind_speed = weather.wind()['speed']\n",
    "\n",
    "print(f\"Temperature: {temperature}°C, Humidity: {humidity}%, Wind Speed: {wind_speed} m/s\")"
   ]
  },
  {
   "cell_type": "markdown",
   "id": "7e7b93b2-c383-4e49-8fce-a0923ac59031",
   "metadata": {},
   "source": [
    "## use case 3: Combining and chaining calls\n",
    "\n",
    "Wrappers often offer methods that make multiple calls to batch requests that make sense to batch. And often they offer methods that make sequences of calls that each returns information necessary to make the next call."
   ]
  },
  {
   "cell_type": "markdown",
   "id": "8f4a6b6c-f397-48ce-a3ef-f88e1fb95eb9",
   "metadata": {},
   "source": [
    "For example, to get a weather forecast for a specific city using the raw API you need to first geocode the city to get its latitude and longitude:"
   ]
  },
  {
   "cell_type": "code",
   "execution_count": 25,
   "id": "d182cf31-80f8-4b61-8de0-897d2d6479d7",
   "metadata": {},
   "outputs": [],
   "source": [
    "city = 'New York'\n",
    "geocode_url = f'http://api.openweathermap.org/data/2.5/weather?q={city}'\n",
    "geocode_response = requests.get(geocode_url,params=params).json()\n",
    "\n",
    "lat = geocode_response['coord']['lat']\n",
    "lon = geocode_response['coord']['lon']"
   ]
  },
  {
   "cell_type": "markdown",
   "id": "547c5deb-1070-4b72-b035-32ea5a615eda",
   "metadata": {},
   "source": [
    "Then, request the weather forecast for that latitude/longitude:"
   ]
  },
  {
   "cell_type": "code",
   "execution_count": 26,
   "id": "03737eff-cbc6-412f-b6a1-03e28b39b1e4",
   "metadata": {},
   "outputs": [
    {
     "name": "stdout",
     "output_type": "stream",
     "text": [
      "Time: 2025-05-23 15:00:00, Temp: 292.46°C\n",
      "Time: 2025-05-23 18:00:00, Temp: 291.31°C\n",
      "Time: 2025-05-23 21:00:00, Temp: 288.07°C\n",
      "Time: 2025-05-24 00:00:00, Temp: 285.35°C\n",
      "Time: 2025-05-24 03:00:00, Temp: 284.17°C\n",
      "Time: 2025-05-24 06:00:00, Temp: 284.93°C\n",
      "Time: 2025-05-24 09:00:00, Temp: 288.66°C\n",
      "Time: 2025-05-24 12:00:00, Temp: 294.49°C\n",
      "Time: 2025-05-24 15:00:00, Temp: 295.26°C\n",
      "Time: 2025-05-24 18:00:00, Temp: 292.83°C\n",
      "Time: 2025-05-24 21:00:00, Temp: 289.2°C\n",
      "Time: 2025-05-25 00:00:00, Temp: 287.82°C\n",
      "Time: 2025-05-25 03:00:00, Temp: 287.55°C\n",
      "Time: 2025-05-25 06:00:00, Temp: 287.29°C\n",
      "Time: 2025-05-25 09:00:00, Temp: 288.48°C\n",
      "Time: 2025-05-25 12:00:00, Temp: 291.89°C\n",
      "Time: 2025-05-25 15:00:00, Temp: 290.6°C\n",
      "Time: 2025-05-25 18:00:00, Temp: 289.56°C\n",
      "Time: 2025-05-25 21:00:00, Temp: 285.95°C\n",
      "Time: 2025-05-26 00:00:00, Temp: 284.28°C\n",
      "Time: 2025-05-26 03:00:00, Temp: 283.18°C\n",
      "Time: 2025-05-26 06:00:00, Temp: 284.62°C\n",
      "Time: 2025-05-26 09:00:00, Temp: 289.05°C\n",
      "Time: 2025-05-26 12:00:00, Temp: 290.84°C\n",
      "Time: 2025-05-26 15:00:00, Temp: 290.94°C\n",
      "Time: 2025-05-26 18:00:00, Temp: 289.48°C\n",
      "Time: 2025-05-26 21:00:00, Temp: 286.7°C\n",
      "Time: 2025-05-27 00:00:00, Temp: 285.74°C\n",
      "Time: 2025-05-27 03:00:00, Temp: 285.92°C\n",
      "Time: 2025-05-27 06:00:00, Temp: 286.58°C\n",
      "Time: 2025-05-27 09:00:00, Temp: 287.21°C\n",
      "Time: 2025-05-27 12:00:00, Temp: 288.43°C\n",
      "Time: 2025-05-27 15:00:00, Temp: 288.04°C\n",
      "Time: 2025-05-27 18:00:00, Temp: 287.28°C\n",
      "Time: 2025-05-27 21:00:00, Temp: 287.55°C\n",
      "Time: 2025-05-28 00:00:00, Temp: 287.92°C\n",
      "Time: 2025-05-28 03:00:00, Temp: 287.39°C\n",
      "Time: 2025-05-28 06:00:00, Temp: 286.67°C\n",
      "Time: 2025-05-28 09:00:00, Temp: 287.95°C\n",
      "Time: 2025-05-28 12:00:00, Temp: 291.56°C\n"
     ]
    }
   ],
   "source": [
    "forecast_url = f'http://api.openweathermap.org/data/2.5/forecast?lat={lat}&lon={lon}'\n",
    "forecast_response = requests.get(forecast_url, params=params).json()\n",
    "\n",
    "for entry in forecast_response['list']:\n",
    "    print(f\"Time: {entry['dt_txt']}, Temp: {entry['main']['temp']}°C\")"
   ]
  },
  {
   "cell_type": "markdown",
   "id": "f75ab558-7500-40fa-a4aa-93a18053059a",
   "metadata": {},
   "source": [
    "Two calls: one for geocoding, one for forecasts.\n",
    "But with pyowm, because this is a common operation, there is a method that handles the geocoding internally and then fetches the weather forecast in one step.\n",
    "\n",
    "Get the above forecast in a single call using pyowm.\n",
    "\n",
    "Hint: search for \"forecast_at_place\" in the code recipies of the documentation"
   ]
  },
  {
   "cell_type": "code",
   "execution_count": 27,
   "id": "11e3c1a8-260d-467c-8f47-793fd62a239b",
   "metadata": {},
   "outputs": [
    {
     "name": "stdout",
     "output_type": "stream",
     "text": [
      "Time: 2025-05-23 15:00:00+00:00, Temp: 11.02°C\n",
      "Time: 2025-05-23 18:00:00+00:00, Temp: 12.31°C\n",
      "Time: 2025-05-23 21:00:00+00:00, Temp: 14.61°C\n",
      "Time: 2025-05-24 00:00:00+00:00, Temp: 14.44°C\n",
      "Time: 2025-05-24 03:00:00+00:00, Temp: 11.98°C\n",
      "Time: 2025-05-24 06:00:00+00:00, Temp: 10.46°C\n",
      "Time: 2025-05-24 09:00:00+00:00, Temp: 9.47°C\n",
      "Time: 2025-05-24 12:00:00+00:00, Temp: 11.3°C\n",
      "Time: 2025-05-24 15:00:00+00:00, Temp: 12.74°C\n",
      "Time: 2025-05-24 18:00:00+00:00, Temp: 14.42°C\n",
      "Time: 2025-05-24 21:00:00+00:00, Temp: 15.62°C\n",
      "Time: 2025-05-25 00:00:00+00:00, Temp: 13.68°C\n",
      "Time: 2025-05-25 03:00:00+00:00, Temp: 12.44°C\n",
      "Time: 2025-05-25 06:00:00+00:00, Temp: 11.46°C\n",
      "Time: 2025-05-25 09:00:00+00:00, Temp: 10.7°C\n",
      "Time: 2025-05-25 12:00:00+00:00, Temp: 12.69°C\n",
      "Time: 2025-05-25 15:00:00+00:00, Temp: 17.74°C\n",
      "Time: 2025-05-25 18:00:00+00:00, Temp: 16.88°C\n",
      "Time: 2025-05-25 21:00:00+00:00, Temp: 17.26°C\n",
      "Time: 2025-05-26 00:00:00+00:00, Temp: 16.08°C\n",
      "Time: 2025-05-26 03:00:00+00:00, Temp: 14.06°C\n",
      "Time: 2025-05-26 06:00:00+00:00, Temp: 12.51°C\n",
      "Time: 2025-05-26 09:00:00+00:00, Temp: 11.19°C\n",
      "Time: 2025-05-26 12:00:00+00:00, Temp: 13.78°C\n",
      "Time: 2025-05-26 15:00:00+00:00, Temp: 18.33°C\n",
      "Time: 2025-05-26 18:00:00+00:00, Temp: 21.89°C\n",
      "Time: 2025-05-26 21:00:00+00:00, Temp: 22.6°C\n",
      "Time: 2025-05-27 00:00:00+00:00, Temp: 19.19°C\n",
      "Time: 2025-05-27 03:00:00+00:00, Temp: 17.67°C\n",
      "Time: 2025-05-27 06:00:00+00:00, Temp: 16.2°C\n",
      "Time: 2025-05-27 09:00:00+00:00, Temp: 15.12°C\n",
      "Time: 2025-05-27 12:00:00+00:00, Temp: 16.62°C\n",
      "Time: 2025-05-27 15:00:00+00:00, Temp: 19.8°C\n",
      "Time: 2025-05-27 18:00:00+00:00, Temp: 20.48°C\n",
      "Time: 2025-05-27 21:00:00+00:00, Temp: 20.08°C\n",
      "Time: 2025-05-28 00:00:00+00:00, Temp: 19.02°C\n",
      "Time: 2025-05-28 03:00:00+00:00, Temp: 16.53°C\n",
      "Time: 2025-05-28 06:00:00+00:00, Temp: 15.04°C\n",
      "Time: 2025-05-28 09:00:00+00:00, Temp: 13.86°C\n",
      "Time: 2025-05-28 12:00:00+00:00, Temp: 13.69°C\n"
     ]
    }
   ],
   "source": [
    "owm = OWM(api_key)\n",
    "mgr = owm.weather_manager()\n",
    "\n",
    "# Get forecast for New York City (the method handles geocoding internally)\n",
    "forecast = mgr.forecast_at_place(\"New York,US\", \"3h\")\n",
    "\n",
    "# The forecast object contains multiple weather entries every 3 hours\n",
    "for weather in forecast.forecast:\n",
    "    time = weather.reference_time('iso')  # ISO format datetime string\n",
    "    temp_c = weather.temperature('celsius')['temp']\n",
    "    print(f\"Time: {time}, Temp: {temp_c}°C\")"
   ]
  },
  {
   "cell_type": "markdown",
   "id": "7ab2b0cc-0d16-4da5-be3e-b8466faecca3",
   "metadata": {},
   "source": [
    "## use case 4: Convenience methods\n",
    "\n",
    "Wrappers often offer built-in methods to handle common kinds of tasks related to the APIs, reducing the need for manual calculations.\n",
    "\n",
    "for example converting units (e.g., temperature from Celsius to Fahrenheit) or working with more complex data requires manual conversion when using the raw API."
   ]
  },
  {
   "cell_type": "code",
   "execution_count": 32,
   "id": "c8e68dad-a503-49cf-9c1e-72e9ed1fab3d",
   "metadata": {},
   "outputs": [
    {
     "name": "stdout",
     "output_type": "stream",
     "text": [
      "Temperature in Celsius: 292.31K, Fahrenheit: 66.49°F\n"
     ]
    }
   ],
   "source": [
    "city = 'London'\n",
    "url = f'http://api.openweathermap.org/data/2.5/weather?q={city}&appid={api_key}'\n",
    "\n",
    "response = requests.get(url)\n",
    "data = response.json()\n",
    "temperature_celsius = data['main']['temp']\n",
    "temperature_fahrenheit = ((temperature_celsius - 273.15) * 9/5) + 32\n",
    "\n",
    "print(f\"Temperature in Celsius: {temperature_celsius}K, Fahrenheit: {temperature_fahrenheit:.2f}°F\")"
   ]
  },
  {
   "cell_type": "markdown",
   "id": "9b05658c-e9cb-491d-8554-ab4d6dd56e1d",
   "metadata": {},
   "source": [
    "But the pyowm wrapper offers built-in methods to handle these kinds of tasks, reducing the need for manual calculations.\n",
    "Get the temperature both in Celcius and Farenheit using pyowm. Navigate the code recipes to figure out the inbuilt methods for this."
   ]
  },
  {
   "cell_type": "code",
   "execution_count": 33,
   "id": "4695bb83-bc35-4c1b-b390-5ea2027984ef",
   "metadata": {},
   "outputs": [
    {
     "name": "stdout",
     "output_type": "stream",
     "text": [
      "Temperature in Celsius: 19.72°C, Fahrenheit: 67.5°F\n"
     ]
    }
   ],
   "source": [
    "owm = OWM(api_key)\n",
    "mgr = owm.weather_manager()\n",
    "\n",
    "observation = mgr.weather_at_place('London,GB')\n",
    "weather = observation.weather\n",
    "\n",
    "# Get temperature in Celsius (pyowm returns a dict with min, max, temp)\n",
    "temp_celsius = weather.temperature('celsius')['temp']\n",
    "\n",
    "# Get temperature in Fahrenheit similarly\n",
    "temp_fahrenheit = weather.temperature('fahrenheit')['temp']\n",
    "\n",
    "print(f\"Temperature in Celsius: {temp_celsius}°C, Fahrenheit: {temp_fahrenheit}°F\")"
   ]
  }
 ],
 "metadata": {
  "kernelspec": {
   "display_name": ".venv",
   "language": "python",
   "name": "python3"
  },
  "language_info": {
   "codemirror_mode": {
    "name": "ipython",
    "version": 3
   },
   "file_extension": ".py",
   "mimetype": "text/x-python",
   "name": "python",
   "nbconvert_exporter": "python",
   "pygments_lexer": "ipython3",
   "version": "3.13.3"
  }
 },
 "nbformat": 4,
 "nbformat_minor": 5
}
